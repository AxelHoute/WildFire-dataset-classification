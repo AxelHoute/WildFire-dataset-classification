{
  "nbformat": 4,
  "nbformat_minor": 0,
  "metadata": {
    "colab": {
      "provenance": []
    },
    "kernelspec": {
      "name": "python3",
      "display_name": "Python 3"
    },
    "language_info": {
      "name": "python"
    }
  },
  "cells": [
    {
      "cell_type": "code",
      "execution_count": null,
      "metadata": {
        "id": "VKwGuTiSdiE8"
      },
      "outputs": [],
      "source": []
    },
    {
      "cell_type": "code",
      "source": [
        "!pip install opendatasets"
      ],
      "metadata": {
        "colab": {
          "base_uri": "https://localhost:8080/"
        },
        "id": "lHOv4hMp4h68",
        "outputId": "1bb3c0f9-0bfc-43a9-e1e6-a0fe439827e4"
      },
      "execution_count": null,
      "outputs": [
        {
          "output_type": "stream",
          "name": "stdout",
          "text": [
            "Collecting opendatasets\n",
            "  Downloading opendatasets-0.1.22-py3-none-any.whl (15 kB)\n",
            "Requirement already satisfied: tqdm in /usr/local/lib/python3.10/dist-packages (from opendatasets) (4.66.1)\n",
            "Requirement already satisfied: kaggle in /usr/local/lib/python3.10/dist-packages (from opendatasets) (1.5.16)\n",
            "Requirement already satisfied: click in /usr/local/lib/python3.10/dist-packages (from opendatasets) (8.1.7)\n",
            "Requirement already satisfied: six>=1.10 in /usr/local/lib/python3.10/dist-packages (from kaggle->opendatasets) (1.16.0)\n",
            "Requirement already satisfied: certifi in /usr/local/lib/python3.10/dist-packages (from kaggle->opendatasets) (2023.11.17)\n",
            "Requirement already satisfied: python-dateutil in /usr/local/lib/python3.10/dist-packages (from kaggle->opendatasets) (2.8.2)\n",
            "Requirement already satisfied: requests in /usr/local/lib/python3.10/dist-packages (from kaggle->opendatasets) (2.31.0)\n",
            "Requirement already satisfied: python-slugify in /usr/local/lib/python3.10/dist-packages (from kaggle->opendatasets) (8.0.1)\n",
            "Requirement already satisfied: urllib3 in /usr/local/lib/python3.10/dist-packages (from kaggle->opendatasets) (2.0.7)\n",
            "Requirement already satisfied: bleach in /usr/local/lib/python3.10/dist-packages (from kaggle->opendatasets) (6.1.0)\n",
            "Requirement already satisfied: webencodings in /usr/local/lib/python3.10/dist-packages (from bleach->kaggle->opendatasets) (0.5.1)\n",
            "Requirement already satisfied: text-unidecode>=1.3 in /usr/local/lib/python3.10/dist-packages (from python-slugify->kaggle->opendatasets) (1.3)\n",
            "Requirement already satisfied: charset-normalizer<4,>=2 in /usr/local/lib/python3.10/dist-packages (from requests->kaggle->opendatasets) (3.3.2)\n",
            "Requirement already satisfied: idna<4,>=2.5 in /usr/local/lib/python3.10/dist-packages (from requests->kaggle->opendatasets) (3.6)\n",
            "Installing collected packages: opendatasets\n",
            "Successfully installed opendatasets-0.1.22\n"
          ]
        }
      ]
    },
    {
      "cell_type": "code",
      "source": [
        "import opendatasets as od\n",
        "import pandas as pd\n",
        "\n",
        "od.download('https://www.kaggle.com/datasets/elmadafri/the-wildfire-dataset/data')"
      ],
      "metadata": {
        "colab": {
          "base_uri": "https://localhost:8080/"
        },
        "id": "-MevG0Zs4VtI",
        "outputId": "a028c534-f520-4966-9249-e9c8df534fc1"
      },
      "execution_count": null,
      "outputs": [
        {
          "output_type": "stream",
          "name": "stdout",
          "text": [
            "Downloading the-wildfire-dataset.zip to ./the-wildfire-dataset\n"
          ]
        },
        {
          "output_type": "stream",
          "name": "stderr",
          "text": [
            "100%|██████████| 9.94G/9.94G [02:06<00:00, 84.3MB/s]\n"
          ]
        },
        {
          "output_type": "stream",
          "name": "stdout",
          "text": [
            "\n"
          ]
        }
      ]
    },
    {
      "cell_type": "code",
      "source": [
        "import os\n",
        "import numpy as np\n",
        "import time\n",
        "import pandas as pd\n",
        "\n",
        "import PIL.Image as Image\n",
        "import matplotlib.pylab as plt\n",
        "\n",
        "import tensorflow as tf\n",
        "import tensorflow_hub as hub # pip install tensorflow_hub"
      ],
      "metadata": {
        "id": "Tb_2m3IU4Vkz"
      },
      "execution_count": null,
      "outputs": []
    },
    {
      "cell_type": "code",
      "source": [
        "import os\n",
        "\n",
        "fichier_a_supprimer =\"/content/the-wildfire-dataset/the_wildfire_dataset/the_wildfire_dataset/val/fire/Both_smoke_and_fire/desktop.ini\"\n",
        "try:\n",
        "    os.remove(fichier_a_supprimer)\n",
        "except OSError as e:\n",
        "    print(f'Error')"
      ],
      "metadata": {
        "id": "LO9Hc9Wg4mSQ"
      },
      "execution_count": null,
      "outputs": []
    },
    {
      "cell_type": "code",
      "source": [
        "train_dir='the-wildfire-dataset/the_wildfire_dataset/the_wildfire_dataset/train'\n",
        "validation_dir= 'the-wildfire-dataset/the_wildfire_dataset/the_wildfire_dataset/val'\n",
        "test_dir='the-wildfire-dataset/the_wildfire_dataset/the_wildfire_dataset/test'\n",
        "\n",
        "IMG_SIZE = (224, 224)\n",
        "BATCH_SIZE = 5\n",
        "\n",
        "labels= ['Smoke_from_fires', 'Both_smoke_and_fire', 'Clean_Forest', 'Fire_confounding_elements', 'Smoke_confounding_elements']\n"
      ],
      "metadata": {
        "id": "WE7CtCrB4Vg8"
      },
      "execution_count": null,
      "outputs": []
    },
    {
      "cell_type": "code",
      "source": [
        "feature_extractor_layer = hub.KerasLayer(\n",
        "    \"https://www.kaggle.com/models/tensorflow/efficientnet/frameworks/TensorFlow2/variations/b0-classification/versions/1\", input_shape=(224, 224, 3), trainable=False)"
      ],
      "metadata": {
        "id": "_wAswo3R4VRo"
      },
      "execution_count": null,
      "outputs": []
    },
    {
      "cell_type": "code",
      "execution_count": null,
      "metadata": {
        "id": "DB-PtKHM4O1U",
        "colab": {
          "base_uri": "https://localhost:8080/"
        },
        "outputId": "4aef189b-3936-4f28-e534-2ed5453a7a71"
      },
      "outputs": [
        {
          "output_type": "stream",
          "name": "stdout",
          "text": [
            "Found 730 files belonging to 2 classes.\n",
            "Found 156 files belonging to 2 classes.\n",
            "Found 159 files belonging to 2 classes.\n",
            "Model: \"sequential\"\n",
            "_________________________________________________________________\n",
            " Layer (type)                Output Shape              Param #   \n",
            "=================================================================\n",
            " keras_layer (KerasLayer)    (None, 1000)              5330564   \n",
            "                                                                 \n",
            " dense (Dense)               (None, 2)                 2002      \n",
            "                                                                 \n",
            "=================================================================\n",
            "Total params: 5332566 (20.34 MB)\n",
            "Trainable params: 2002 (7.82 KB)\n",
            "Non-trainable params: 5330564 (20.33 MB)\n",
            "_________________________________________________________________\n",
            "Epoch 1/4\n",
            "73/73 [==============================] - 124s 1s/step - loss: 0.6808 - acc: 0.6192 - val_loss: 0.6674 - val_acc: 0.6346\n",
            "Epoch 2/4\n",
            "73/73 [==============================] - 94s 1s/step - loss: 0.6623 - acc: 0.6315 - val_loss: 0.6512 - val_acc: 0.6346\n",
            "Epoch 3/4\n",
            "73/73 [==============================] - 91s 1s/step - loss: 0.6485 - acc: 0.6315 - val_loss: 0.6379 - val_acc: 0.6346\n",
            "Epoch 4/4\n",
            "73/73 [==============================] - 91s 1s/step - loss: 0.6377 - acc: 0.6315 - val_loss: 0.6273 - val_acc: 0.6346\n",
            "Epoch 1/10\n",
            "73/73 [==============================] - 153s 2s/step - loss: 0.7632 - acc: 0.7397 - val_loss: 0.7101 - val_acc: 0.7949\n",
            "Epoch 2/10\n",
            "73/73 [==============================] - 149s 2s/step - loss: 0.6906 - acc: 0.8137 - val_loss: 0.6312 - val_acc: 0.8782\n",
            "Epoch 3/10\n",
            "73/73 [==============================] - 146s 2s/step - loss: 0.6638 - acc: 0.8110 - val_loss: 0.6828 - val_acc: 0.7821\n",
            "Epoch 4/10\n",
            "73/73 [==============================] - 142s 2s/step - loss: 0.6407 - acc: 0.8110 - val_loss: 0.6376 - val_acc: 0.8333\n",
            "Epoch 5/10\n",
            "73/73 [==============================] - 151s 2s/step - loss: 0.6000 - acc: 0.8493 - val_loss: 0.7101 - val_acc: 0.7372\n",
            "Epoch 6/10\n",
            "73/73 [==============================] - 148s 2s/step - loss: 0.6097 - acc: 0.8288 - val_loss: 0.5658 - val_acc: 0.8590\n",
            "Epoch 7/10\n",
            "73/73 [==============================] - 146s 2s/step - loss: 0.5924 - acc: 0.8356 - val_loss: 0.6931 - val_acc: 0.7436\n",
            "Epoch 8/10\n",
            "73/73 [==============================] - 145s 2s/step - loss: 0.5725 - acc: 0.8452 - val_loss: 0.6318 - val_acc: 0.8013\n",
            "Epoch 9/10\n",
            "73/73 [==============================] - 147s 2s/step - loss: 0.5414 - acc: 0.8644 - val_loss: 0.5449 - val_acc: 0.8782\n",
            "Epoch 10/10\n",
            "73/73 [==============================] - 146s 2s/step - loss: 0.5218 - acc: 0.8795 - val_loss: 0.5228 - val_acc: 0.8654\n",
            "16/16 [==============================] - 20s 712ms/step - loss: 0.5348 - acc: 0.8616\n"
          ]
        },
        {
          "output_type": "execute_result",
          "data": {
            "text/plain": [
              "[0.5347999930381775, 0.8616352081298828]"
            ]
          },
          "metadata": {},
          "execution_count": 8
        }
      ],
      "source": [
        "import keras\n",
        "img_height=224\n",
        "img_width=224\n",
        "batch_size=10\n",
        "\n",
        "train = tf.keras.preprocessing.image_dataset_from_directory(\n",
        "  \"the-wildfire-dataset/the_wildfire_dataset/the_wildfire_dataset/train/fire\",\n",
        "  image_size=(img_height, img_width),\n",
        "  batch_size=batch_size,\n",
        "  label_mode='categorical')\n",
        "\n",
        "validation = tf.keras.preprocessing.image_dataset_from_directory(\n",
        "  \"the-wildfire-dataset/the_wildfire_dataset/the_wildfire_dataset/val/fire\",\n",
        "  image_size=(img_height, img_width),\n",
        "  batch_size=batch_size,\n",
        "  label_mode='categorical')\n",
        "\n",
        "test = tf.keras.preprocessing.image_dataset_from_directory(\n",
        "  \"the-wildfire-dataset/the_wildfire_dataset/the_wildfire_dataset/test/fire\",\n",
        "  seed=123,\n",
        "  image_size=(img_height, img_width),\n",
        "  batch_size=batch_size,\n",
        "  label_mode='categorical')\n",
        "\n",
        "normalization_layer = tf.keras.layers.experimental.preprocessing.Rescaling(1./255)\n",
        "train = train.map(lambda x, y: (normalization_layer(x), y))\n",
        "validation=validation.map(lambda x, y: (normalization_layer(x), y))\n",
        "test=test.map(lambda x, y: (normalization_layer(x), y))\n",
        "\n",
        "model_fire = tf.keras.Sequential([\n",
        "  feature_extractor_layer,\n",
        "  tf.keras.layers.Dense(2)\n",
        "])\n",
        "model_fire.summary()\n",
        "model_fire.compile(\n",
        "  optimizer=tf.keras.optimizers.legacy.Adam(),\n",
        "  loss=tf.keras.losses.CategoricalCrossentropy(from_logits=True),\n",
        "  metrics=['acc'])\n",
        "tensorboard_logdir = os.path.join(os.getcwd(),'logs','tensorboard') # Let's log Tensorboard data to this folder\n",
        "tensorboard_callback = keras.callbacks.TensorBoard(log_dir=tensorboard_logdir) # Create a Tensorboard \"callback\"\n",
        "model_fire.fit(train, epochs=4,validation_data=validation,\n",
        "                    callbacks=[tensorboard_callback])\n",
        "\n",
        "\n",
        "feature_extractor_layer.trainable = True\n",
        "model_fire.compile(optimizer=keras.optimizers.legacy.Adam(1e-3),  # Very low learning rate\n",
        "              loss=keras.losses.CategoricalCrossentropy(from_logits=True),\n",
        "              metrics=['acc'])\n",
        "model_fire.fit(train, epochs=10,validation_data=validation,\n",
        "                    callbacks=[tensorboard_callback])\n",
        "model_fire.evaluate(test)"
      ]
    },
    {
      "cell_type": "code",
      "source": [
        "import flatbuffers\n",
        "# Convert the model (note: we are converting the model directly from the \"model\" variable)\n",
        "converter = tf.lite.TFLiteConverter.from_keras_model(model_fire)\n",
        "\n",
        "tflite_model = converter.convert()\n",
        "print(1)\n",
        "# Let's save the model as \"model_2.tflite\"\n",
        "tflite_model2_path = os.path.join(os.getcwd(),'model_fire1.tflite')\n",
        "with open(tflite_model2_path, 'wb') as f:\n",
        "  f.write(tflite_model)"
      ],
      "metadata": {
        "colab": {
          "base_uri": "https://localhost:8080/"
        },
        "id": "q9bMmXbVJCeo",
        "outputId": "745a7695-e036-4fcc-f0ca-fd9838011c2a"
      },
      "execution_count": null,
      "outputs": [
        {
          "output_type": "stream",
          "name": "stdout",
          "text": [
            "1\n"
          ]
        }
      ]
    },
    {
      "cell_type": "code",
      "source": [
        "test_ = tf.keras.preprocessing.image_dataset_from_directory(\n",
        "  test_dir+\"/fire\",\n",
        "  image_size=(img_height, img_width),\n",
        "  batch_size=1,label_mode='categorical',shuffle=False)\n",
        "test_=test_.map(lambda x, y: (normalization_layer(x), y))"
      ],
      "metadata": {
        "colab": {
          "base_uri": "https://localhost:8080/"
        },
        "id": "Ouib6BF_JRhI",
        "outputId": "6784d1eb-5070-44d6-8b59-c28330453377"
      },
      "execution_count": null,
      "outputs": [
        {
          "output_type": "stream",
          "name": "stdout",
          "text": [
            "Found 159 files belonging to 2 classes.\n"
          ]
        }
      ]
    },
    {
      "cell_type": "code",
      "source": [
        "pred=model_fire.predict(test_)\n",
        "predictions=np.argmax(pred,axis=-1)"
      ],
      "metadata": {
        "colab": {
          "base_uri": "https://localhost:8080/"
        },
        "id": "VN6rRQpuJRfD",
        "outputId": "a63b5e08-c657-4929-f8a7-8ddedb5fe232"
      },
      "execution_count": null,
      "outputs": [
        {
          "output_type": "stream",
          "name": "stdout",
          "text": [
            "159/159 [==============================] - 18s 114ms/step\n"
          ]
        }
      ]
    },
    {
      "cell_type": "code",
      "source": [
        "predictions"
      ],
      "metadata": {
        "colab": {
          "base_uri": "https://localhost:8080/"
        },
        "id": "6ZUK5aJIMfIS",
        "outputId": "0c262cc8-875e-49c0-9209-c861851e9e3d"
      },
      "execution_count": null,
      "outputs": [
        {
          "output_type": "execute_result",
          "data": {
            "text/plain": [
              "array([1, 1, 1, 1, 1, 1, 1, 1, 1, 1, 1, 1, 1, 1, 1, 1, 1, 1, 1, 1, 1, 1,\n",
              "       1, 1, 1, 1, 0, 1, 1, 1, 1, 1, 1, 1, 1, 1, 1, 1, 1, 1, 1, 1, 1, 1,\n",
              "       1, 1, 1, 1, 1, 1, 1, 1, 1, 1, 1, 1, 1, 1, 1, 1, 0, 1, 0, 0, 1, 1,\n",
              "       0, 1, 1, 0, 1, 1, 1, 0, 1, 1, 1, 0, 1, 1, 1, 1, 1, 1, 1, 1, 1, 1,\n",
              "       1, 0, 1, 0, 1, 0, 1, 1, 0, 1, 0, 1, 1, 1, 1, 0, 1, 1, 0, 1, 1, 1,\n",
              "       1, 1, 1, 1, 1, 0, 1, 1, 1, 0, 1, 1, 1, 1, 0, 1, 0, 1, 0, 0, 1, 0,\n",
              "       1, 0, 0, 1, 1, 1, 0, 0, 0, 1, 0, 0, 1, 1, 1, 1, 0, 1, 0, 1, 1, 1,\n",
              "       1, 1, 1, 1, 1])"
            ]
          },
          "metadata": {},
          "execution_count": 42
        }
      ]
    },
    {
      "cell_type": "code",
      "source": [
        "true_class=[]\n",
        "for images,labels_ in test_:\n",
        "  for i in range(len(labels_)):\n",
        "    true_class+=[np.flatnonzero(labels_[i] == 1)[0]]\n",
        "true_class=np.array(true_class)\n",
        "true_class"
      ],
      "metadata": {
        "colab": {
          "base_uri": "https://localhost:8080/"
        },
        "id": "pz0W-kqHJRcc",
        "outputId": "372c4e92-a901-49d5-9d20-2304586beab7"
      },
      "execution_count": null,
      "outputs": [
        {
          "output_type": "execute_result",
          "data": {
            "text/plain": [
              "array([0, 0, 0, 0, 0, 0, 0, 0, 0, 0, 0, 0, 0, 0, 0, 0, 0, 0, 0, 0, 0, 0,\n",
              "       0, 0, 0, 0, 0, 0, 0, 0, 0, 0, 0, 0, 0, 0, 0, 0, 0, 0, 0, 0, 0, 0,\n",
              "       0, 0, 0, 0, 0, 0, 0, 0, 0, 0, 0, 0, 0, 0, 0, 1, 1, 1, 1, 1, 1, 1,\n",
              "       1, 1, 1, 1, 1, 1, 1, 1, 1, 1, 1, 1, 1, 1, 1, 1, 1, 1, 1, 1, 1, 1,\n",
              "       1, 1, 1, 1, 1, 1, 1, 1, 1, 1, 1, 1, 1, 1, 1, 1, 1, 1, 1, 1, 1, 1,\n",
              "       1, 1, 1, 1, 1, 1, 1, 1, 1, 1, 1, 1, 1, 1, 1, 1, 1, 1, 1, 1, 1, 1,\n",
              "       1, 1, 1, 1, 1, 1, 1, 1, 1, 1, 1, 1, 1, 1, 1, 1, 1, 1, 1, 1, 1, 1,\n",
              "       1, 1, 1, 1, 1])"
            ]
          },
          "metadata": {},
          "execution_count": 43
        }
      ]
    },
    {
      "cell_type": "code",
      "source": [
        "import tensorflow as tf\n",
        "from sklearn.metrics import confusion_matrix, classification_report\n",
        "import numpy as np\n",
        "\n",
        "matrice_confusion = confusion_matrix(true_class, predictions)\n",
        "\n",
        "# Afficher la matrice de confusion\n",
        "print(\"Matrice de confusion :\")\n",
        "print(matrice_confusion)\n",
        "\n",
        "# Afficher le rapport de classification\n",
        "rapport_classification = classification_report(true_class, predictions)\n",
        "print(\"Rapport de classification :\")\n",
        "print(rapport_classification)"
      ],
      "metadata": {
        "colab": {
          "base_uri": "https://localhost:8080/"
        },
        "id": "dUDgIosdJRZw",
        "outputId": "34f984cd-4f49-4269-8ab7-f272d9474d48"
      },
      "execution_count": null,
      "outputs": [
        {
          "output_type": "stream",
          "name": "stdout",
          "text": [
            "Matrice de confusion :\n",
            "[[50  9]\n",
            " [13 87]]\n",
            "Rapport de classification :\n",
            "              precision    recall  f1-score   support\n",
            "\n",
            "           0       0.79      0.85      0.82        59\n",
            "           1       0.91      0.87      0.89       100\n",
            "\n",
            "    accuracy                           0.86       159\n",
            "   macro avg       0.85      0.86      0.85       159\n",
            "weighted avg       0.86      0.86      0.86       159\n",
            "\n"
          ]
        }
      ]
    },
    {
      "cell_type": "code",
      "source": [
        "from sklearn.metrics import ConfusionMatrixDisplay\n",
        "\n",
        "disp=ConfusionMatrixDisplay(matrice_confusion,display_labels=[\"smoke+fire\",\"smoke\"])\n",
        "disp.plot()\n",
        "plt.show()"
      ],
      "metadata": {
        "colab": {
          "base_uri": "https://localhost:8080/",
          "height": 449
        },
        "id": "DssZTLVsSM6g",
        "outputId": "600e5038-bb5e-49df-b87f-c5690be11239"
      },
      "execution_count": null,
      "outputs": [
        {
          "output_type": "display_data",
          "data": {
            "text/plain": [
              "<Figure size 640x480 with 2 Axes>"
            ],
            "image/png": "[encoded data removed]"
          },
          "metadata": {}
        }
      ]
    },
    {
      "cell_type": "code",
      "source": [],
      "metadata": {
        "id": "nho6FTSsSnYx"
      },
      "execution_count": null,
      "outputs": []
    },
    {
      "cell_type": "code",
      "source": [
        "feature_extractor_layer = hub.KerasLayer(\n",
        "    \"https://www.kaggle.com/models/tensorflow/efficientnet/frameworks/TensorFlow2/variations/b0-classification/versions/1\", input_shape=(224, 224, 3), trainable=False)"
      ],
      "metadata": {
        "id": "R4kLTKcMqIzN"
      },
      "execution_count": null,
      "outputs": []
    },
    {
      "cell_type": "code",
      "execution_count": null,
      "metadata": {
        "colab": {
          "base_uri": "https://localhost:8080/"
        },
        "outputId": "7da26619-00d3-4e36-fad3-7b48a8281bc0",
        "id": "ue4gl1FxqIzN"
      },
      "outputs": [
        {
          "output_type": "stream",
          "name": "stdout",
          "text": [
            "Found 1157 files belonging to 3 classes.\n",
            "Found 246 files belonging to 3 classes.\n",
            "Found 251 files belonging to 3 classes.\n",
            "Model: \"sequential\"\n",
            "_________________________________________________________________\n",
            " Layer (type)                Output Shape              Param #   \n",
            "=================================================================\n",
            " keras_layer (KerasLayer)    (None, 1000)              5330564   \n",
            "                                                                 \n",
            " dense (Dense)               (None, 3)                 3003      \n",
            "                                                                 \n",
            "=================================================================\n",
            "Total params: 5333567 (20.35 MB)\n",
            "Trainable params: 3003 (11.73 KB)\n",
            "Non-trainable params: 5330564 (20.33 MB)\n",
            "_________________________________________________________________\n",
            "Epoch 1/4\n",
            "78/78 [==============================] - 475s 5s/step - loss: 1.0788 - acc: 0.5220 - val_loss: 1.0588 - val_acc: 0.5244\n",
            "Epoch 2/4\n",
            "78/78 [==============================] - 446s 5s/step - loss: 1.0485 - acc: 0.5281 - val_loss: 1.0329 - val_acc: 0.5163\n",
            "Epoch 3/4\n",
            "78/78 [==============================] - 429s 5s/step - loss: 1.0254 - acc: 0.5220 - val_loss: 1.0123 - val_acc: 0.5163\n",
            "Epoch 4/4\n",
            "78/78 [==============================] - 428s 5s/step - loss: 1.0074 - acc: 0.5220 - val_loss: 0.9963 - val_acc: 0.5203\n",
            "Epoch 1/10\n",
            "78/78 [==============================] - 668s 8s/step - loss: 1.0886 - acc: 0.5756 - val_loss: 1.1293 - val_acc: 0.5976\n",
            "Epoch 2/10\n",
            "78/78 [==============================] - 629s 8s/step - loss: 1.0522 - acc: 0.5912 - val_loss: 1.1552 - val_acc: 0.5244\n",
            "Epoch 3/10\n",
            "78/78 [==============================] - 643s 8s/step - loss: 1.0315 - acc: 0.6162 - val_loss: 1.0086 - val_acc: 0.5772\n",
            "Epoch 4/10\n",
            "78/78 [==============================] - 642s 8s/step - loss: 1.0227 - acc: 0.6249 - val_loss: 1.1195 - val_acc: 0.5854\n",
            "Epoch 5/10\n",
            "78/78 [==============================] - 618s 8s/step - loss: 0.9830 - acc: 0.6845 - val_loss: 1.0459 - val_acc: 0.5732\n",
            "Epoch 6/10\n",
            "78/78 [==============================] - 636s 8s/step - loss: 0.9213 - acc: 0.7459 - val_loss: 0.9677 - val_acc: 0.7236\n",
            "Epoch 7/10\n",
            "78/78 [==============================] - 634s 8s/step - loss: 0.9656 - acc: 0.6646 - val_loss: 0.9579 - val_acc: 0.6626\n",
            "Epoch 8/10\n",
            "78/78 [==============================] - 628s 8s/step - loss: 0.9347 - acc: 0.7105 - val_loss: 0.8997 - val_acc: 0.7195\n",
            "Epoch 9/10\n",
            "78/78 [==============================] - 650s 8s/step - loss: 0.8986 - acc: 0.7252 - val_loss: 0.8236 - val_acc: 0.7886\n",
            "Epoch 10/10\n",
            "78/78 [==============================] - 619s 8s/step - loss: 0.8469 - acc: 0.7753 - val_loss: 0.7886 - val_acc: 0.8211\n",
            "17/17 [==============================] - 77s 3s/step - loss: 0.8062 - acc: 0.7928\n"
          ]
        },
        {
          "output_type": "execute_result",
          "data": {
            "text/plain": [
              "[0.806189775466919, 0.7928286790847778]"
            ]
          },
          "metadata": {},
          "execution_count": 9
        }
      ],
      "source": [
        "import keras\n",
        "img_height=224\n",
        "img_width=224\n",
        "batch_size=15\n",
        "\n",
        "train = tf.keras.preprocessing.image_dataset_from_directory(\n",
        "  \"the-wildfire-dataset/the_wildfire_dataset/the_wildfire_dataset/train/nofire\",\n",
        "  image_size=(img_height, img_width),\n",
        "  batch_size=batch_size,\n",
        "  label_mode='categorical')\n",
        "\n",
        "validation = tf.keras.preprocessing.image_dataset_from_directory(\n",
        "  \"the-wildfire-dataset/the_wildfire_dataset/the_wildfire_dataset/val/nofire\",\n",
        "  image_size=(img_height, img_width),\n",
        "  batch_size=batch_size,\n",
        "  label_mode='categorical')\n",
        "\n",
        "test = tf.keras.preprocessing.image_dataset_from_directory(\n",
        "  \"the-wildfire-dataset/the_wildfire_dataset/the_wildfire_dataset/test/nofire\",\n",
        "  seed=123,\n",
        "  image_size=(img_height, img_width),\n",
        "  batch_size=batch_size,\n",
        "  label_mode='categorical')\n",
        "\n",
        "normalization_layer = tf.keras.layers.experimental.preprocessing.Rescaling(1./255)\n",
        "train = train.map(lambda x, y: (normalization_layer(x), y))\n",
        "validation=validation.map(lambda x, y: (normalization_layer(x), y))\n",
        "test=test.map(lambda x, y: (normalization_layer(x), y))\n",
        "\n",
        "model_nofire = tf.keras.Sequential([\n",
        "  feature_extractor_layer,\n",
        "  tf.keras.layers.Dense(3)\n",
        "])\n",
        "model_nofire.summary()\n",
        "model_nofire.compile(\n",
        "  optimizer=tf.keras.optimizers.legacy.Adam(),\n",
        "  loss=tf.keras.losses.CategoricalCrossentropy(from_logits=True),\n",
        "  metrics=['acc'])\n",
        "tensorboard_logdir = os.path.join(os.getcwd(),'logs','tensorboard') # Let's log Tensorboard data to this folder\n",
        "tensorboard_callback = keras.callbacks.TensorBoard(log_dir=tensorboard_logdir) # Create a Tensorboard \"callback\"\n",
        "model_nofire.fit(train, epochs=4,validation_data=validation,\n",
        "                    callbacks=[tensorboard_callback])\n",
        "\n",
        "\n",
        "feature_extractor_layer.trainable = True\n",
        "model_nofire.compile(optimizer=keras.optimizers.legacy.Adam(1e-3),  # Very low learning rate\n",
        "              loss=keras.losses.CategoricalCrossentropy(from_logits=True),\n",
        "              metrics=['acc'])\n",
        "model_nofire.fit(train, epochs=10,validation_data=validation,\n",
        "                    callbacks=[tensorboard_callback])\n",
        "model_nofire.evaluate(test)"
      ]
    },
    {
      "cell_type": "code",
      "source": [
        "import flatbuffers\n",
        "# Convert the model (note: we are converting the model directly from the \"model\" variable)\n",
        "converter = tf.lite.TFLiteConverter.from_keras_model(model_nofire)\n",
        "\n",
        "tflite_model = converter.convert()\n",
        "print(1)\n",
        "# Let's save the model as \"model_2.tflite\"\n",
        "tflite_model2_path = os.path.join(os.getcwd(),'model_fire2.tflite')\n",
        "with open(tflite_model2_path, 'wb') as f:\n",
        "  f.write(tflite_model)"
      ],
      "metadata": {
        "colab": {
          "base_uri": "https://localhost:8080/"
        },
        "id": "HkMh8afgqIzO",
        "outputId": "928ddc07-0a2a-4aaf-b67c-600ccb5e3665"
      },
      "execution_count": null,
      "outputs": [
        {
          "output_type": "stream",
          "name": "stdout",
          "text": [
            "1\n"
          ]
        }
      ]
    },
    {
      "cell_type": "code",
      "source": [
        "test_ = tf.keras.preprocessing.image_dataset_from_directory(\n",
        "  test_dir+\"/nofire\",\n",
        "  image_size=(img_height, img_width),\n",
        "  batch_size=1,label_mode='categorical',shuffle=False)\n",
        "test_=test_.map(lambda x, y: (normalization_layer(x), y))"
      ],
      "metadata": {
        "colab": {
          "base_uri": "https://localhost:8080/"
        },
        "outputId": "e4a5e38d-a120-40e7-f59f-90641af1d8d0",
        "id": "SjcrS6EVqIzO"
      },
      "execution_count": null,
      "outputs": [
        {
          "output_type": "stream",
          "name": "stdout",
          "text": [
            "Found 251 files belonging to 3 classes.\n"
          ]
        }
      ]
    },
    {
      "cell_type": "code",
      "source": [
        "pred_no=model_nofire.predict(test_)\n",
        "predictions_no=np.argmax(pred,axis=-1)"
      ],
      "metadata": {
        "colab": {
          "base_uri": "https://localhost:8080/"
        },
        "outputId": "f0ae784f-183e-4fe8-f41a-05f9d7958ff7",
        "id": "xZa7VmAYqIzO"
      },
      "execution_count": null,
      "outputs": [
        {
          "output_type": "stream",
          "name": "stdout",
          "text": [
            "251/251 [==============================] - 47s 182ms/step\n"
          ]
        }
      ]
    },
    {
      "cell_type": "code",
      "source": [
        "predictions_no"
      ],
      "metadata": {
        "colab": {
          "base_uri": "https://localhost:8080/"
        },
        "outputId": "957da739-3fa3-43f2-9eeb-3804ff6331f7",
        "id": "tlP0rvqDqIzO"
      },
      "execution_count": null,
      "outputs": [
        {
          "output_type": "execute_result",
          "data": {
            "text/plain": [
              "array([0, 1, 0, 0, 0, 0, 0, 0, 0, 0, 0, 1, 0, 0, 2, 1, 0, 1, 0, 0, 0, 1,\n",
              "       0, 0, 0, 0, 0, 0, 0, 1, 0, 0, 0, 0, 0, 0, 0, 0, 0, 0, 0, 0, 0, 0,\n",
              "       0, 0, 1, 1, 0, 0, 0, 0, 1, 1, 2, 1, 1, 1, 1, 1, 1, 1, 2, 1, 1, 1,\n",
              "       1, 1, 1, 0, 0, 1, 1, 1, 1, 1, 1, 1, 1, 0, 1, 1, 1, 1, 1, 2, 1, 1,\n",
              "       1, 1, 1, 1, 1, 2, 1, 1, 1, 1, 1, 0, 1, 2, 1, 1, 1, 0, 1, 0, 1, 1,\n",
              "       1, 1, 1, 1, 1, 0, 1, 1, 1, 0, 0, 0, 1, 1, 1, 1, 1, 0, 1, 1, 1, 1,\n",
              "       1, 1, 1, 1, 1, 1, 1, 1, 1, 1, 1, 1, 1, 1, 1, 1, 1, 1, 1, 2, 1, 1,\n",
              "       1, 1, 1, 1, 1, 1, 1, 1, 1, 1, 1, 0, 1, 0, 1, 0, 0, 1, 1, 1, 1, 1,\n",
              "       1, 1, 1, 2, 2, 2, 2, 2, 2, 2, 2, 2, 0, 0, 2, 2, 2, 1, 1, 0, 2, 2,\n",
              "       2, 1, 2, 0, 2, 2, 0, 2, 2, 2, 1, 2, 1, 2, 2, 2, 2, 2, 1, 1, 2, 1,\n",
              "       2, 2, 0, 2, 2, 1, 2, 2, 2, 0, 2, 2, 2, 1, 2, 2, 2, 2, 0, 2, 2, 2,\n",
              "       2, 1, 1, 2, 2, 2, 2, 2, 2])"
            ]
          },
          "metadata": {},
          "execution_count": 36
        }
      ]
    },
    {
      "cell_type": "code",
      "source": [
        "true_class_no=[]\n",
        "for images,labels_ in test_:\n",
        "  for i in range(len(labels_)):\n",
        "    true_class_no+=[np. (labels_[i] == 1)[0]]\n",
        "true_cltrue_class_noass=np.array(true_class)\n"
      ],
      "metadata": {
        "colab": {
          "base_uri": "https://localhost:8080/"
        },
        "outputId": "2f8a664b-afe5-42e5-91ca-b88a388568e4",
        "id": "m7bqF0cTqIzO"
      },
      "execution_count": null,
      "outputs": [
        {
          "output_type": "execute_result",
          "data": {
            "text/plain": [
              "[0,\n",
              " 0,\n",
              " 0,\n",
              " 0,\n",
              " 0,\n",
              " 0,\n",
              " 0,\n",
              " 0,\n",
              " 0,\n",
              " 0,\n",
              " 0,\n",
              " 0,\n",
              " 0,\n",
              " 0,\n",
              " 0,\n",
              " 0,\n",
              " 0,\n",
              " 0,\n",
              " 0,\n",
              " 0,\n",
              " 0,\n",
              " 0,\n",
              " 0,\n",
              " 0,\n",
              " 0,\n",
              " 0,\n",
              " 0,\n",
              " 0,\n",
              " 0,\n",
              " 0,\n",
              " 0,\n",
              " 0,\n",
              " 0,\n",
              " 0,\n",
              " 0,\n",
              " 0,\n",
              " 0,\n",
              " 0,\n",
              " 0,\n",
              " 0,\n",
              " 0,\n",
              " 0,\n",
              " 0,\n",
              " 0,\n",
              " 0,\n",
              " 0,\n",
              " 0,\n",
              " 0,\n",
              " 0,\n",
              " 0,\n",
              " 0,\n",
              " 0,\n",
              " 1,\n",
              " 1,\n",
              " 1,\n",
              " 1,\n",
              " 1,\n",
              " 1,\n",
              " 1,\n",
              " 1,\n",
              " 1,\n",
              " 1,\n",
              " 1,\n",
              " 1,\n",
              " 1,\n",
              " 1,\n",
              " 1,\n",
              " 1,\n",
              " 1,\n",
              " 1,\n",
              " 1,\n",
              " 1,\n",
              " 1,\n",
              " 1,\n",
              " 1,\n",
              " 1,\n",
              " 1,\n",
              " 1,\n",
              " 1,\n",
              " 1,\n",
              " 1,\n",
              " 1,\n",
              " 1,\n",
              " 1,\n",
              " 1,\n",
              " 1,\n",
              " 1,\n",
              " 1,\n",
              " 1,\n",
              " 1,\n",
              " 1,\n",
              " 1,\n",
              " 1,\n",
              " 1,\n",
              " 1,\n",
              " 1,\n",
              " 1,\n",
              " 1,\n",
              " 1,\n",
              " 1,\n",
              " 1,\n",
              " 1,\n",
              " 1,\n",
              " 1,\n",
              " 1,\n",
              " 1,\n",
              " 1,\n",
              " 1,\n",
              " 1,\n",
              " 1,\n",
              " 1,\n",
              " 1,\n",
              " 1,\n",
              " 1,\n",
              " 1,\n",
              " 1,\n",
              " 1,\n",
              " 1,\n",
              " 1,\n",
              " 1,\n",
              " 1,\n",
              " 1,\n",
              " 1,\n",
              " 1,\n",
              " 1,\n",
              " 1,\n",
              " 1,\n",
              " 1,\n",
              " 1,\n",
              " 1,\n",
              " 1,\n",
              " 1,\n",
              " 1,\n",
              " 1,\n",
              " 1,\n",
              " 1,\n",
              " 1,\n",
              " 1,\n",
              " 1,\n",
              " 1,\n",
              " 1,\n",
              " 1,\n",
              " 1,\n",
              " 1,\n",
              " 1,\n",
              " 1,\n",
              " 1,\n",
              " 1,\n",
              " 1,\n",
              " 1,\n",
              " 1,\n",
              " 1,\n",
              " 1,\n",
              " 1,\n",
              " 1,\n",
              " 1,\n",
              " 1,\n",
              " 1,\n",
              " 1,\n",
              " 1,\n",
              " 1,\n",
              " 1,\n",
              " 1,\n",
              " 1,\n",
              " 1,\n",
              " 1,\n",
              " 1,\n",
              " 1,\n",
              " 1,\n",
              " 1,\n",
              " 1,\n",
              " 1,\n",
              " 1,\n",
              " 1,\n",
              " 1,\n",
              " 1,\n",
              " 1,\n",
              " 1,\n",
              " 1,\n",
              " 1,\n",
              " 2,\n",
              " 2,\n",
              " 2,\n",
              " 2,\n",
              " 2,\n",
              " 2,\n",
              " 2,\n",
              " 2,\n",
              " 2,\n",
              " 2,\n",
              " 2,\n",
              " 2,\n",
              " 2,\n",
              " 2,\n",
              " 2,\n",
              " 2,\n",
              " 2,\n",
              " 2,\n",
              " 2,\n",
              " 2,\n",
              " 2,\n",
              " 2,\n",
              " 2,\n",
              " 2,\n",
              " 2,\n",
              " 2,\n",
              " 2,\n",
              " 2,\n",
              " 2,\n",
              " 2,\n",
              " 2,\n",
              " 2,\n",
              " 2,\n",
              " 2,\n",
              " 2,\n",
              " 2,\n",
              " 2,\n",
              " 2,\n",
              " 2,\n",
              " 2,\n",
              " 2,\n",
              " 2,\n",
              " 2,\n",
              " 2,\n",
              " 2,\n",
              " 2,\n",
              " 2,\n",
              " 2,\n",
              " 2,\n",
              " 2,\n",
              " 2,\n",
              " 2,\n",
              " 2,\n",
              " 2,\n",
              " 2,\n",
              " 2,\n",
              " 2,\n",
              " 2,\n",
              " 2,\n",
              " 2,\n",
              " 2,\n",
              " 2,\n",
              " 2,\n",
              " 2,\n",
              " 2,\n",
              " 2,\n",
              " 2,\n",
              " 2,\n",
              " 2,\n",
              " 2,\n",
              " 2]"
            ]
          },
          "metadata": {},
          "execution_count": 37
        }
      ]
    },
    {
      "cell_type": "code",
      "source": [
        "import tensorflow as tf\n",
        "from sklearn.metrics import confusion_matrix, classification_report\n",
        "import numpy as np\n",
        "\n",
        "matrice_confusion_no = confusion_matrix(true_class_no, predictions_no)\n",
        "\n",
        "# Afficher la matrice de confusion\n",
        "print(\"Matrice de confusion :\")\n",
        "print(matrice_confusion_no)\n",
        "\n",
        "# Afficher le rapport de classification\n",
        "rapport_classification_no = classification_report(true_class_no, predictions_no)\n",
        "print(\"Rapport de classification :\")\n",
        "print(rapport_classification_no)"
      ],
      "metadata": {
        "colab": {
          "base_uri": "https://localhost:8080/"
        },
        "outputId": "519c4db1-d0a1-4f32-f4be-eb4ce937f881",
        "id": "hcNYdD4fqIzO"
      },
      "execution_count": null,
      "outputs": [
        {
          "output_type": "stream",
          "name": "stdout",
          "text": [
            "Matrice de confusion :\n",
            "[[ 43   8   1]\n",
            " [ 15 106   7]\n",
            " [  8  12  51]]\n",
            "Rapport de classification :\n",
            "              precision    recall  f1-score   support\n",
            "\n",
            "           0       0.65      0.83      0.73        52\n",
            "           1       0.84      0.83      0.83       128\n",
            "           2       0.86      0.72      0.78        71\n",
            "\n",
            "    accuracy                           0.80       251\n",
            "   macro avg       0.79      0.79      0.78       251\n",
            "weighted avg       0.81      0.80      0.80       251\n",
            "\n"
          ]
        }
      ]
    },
    {
      "cell_type": "code",
      "source": [
        "from sklearn.metrics import ConfusionMatrixDisplay\n",
        "\n",
        "disp=ConfusionMatrixDisplay(matrice_confusion_no,display_labels=[\"fire conf\",\"forest\",\"smoke_conf\"])\n",
        "disp.plot()\n",
        "plt.show()"
      ],
      "metadata": {
        "colab": {
          "base_uri": "https://localhost:8080/",
          "height": 450
        },
        "outputId": "40c77c22-2422-45c7-bae3-77cf0c9a4c99",
        "id": "cQ0wQl2aqIzP"
      },
      "execution_count": null,
      "outputs": [
        {
          "output_type": "display_data",
          "data": {
            "text/plain": [
              "<Figure size 640x480 with 2 Axes>"
            ],
            "image/png": "[encoded data removed]"
          },
          "metadata": {}
        }
      ]
    },
    {
      "cell_type": "code",
      "source": [
        "# Load the TFLite model and allocate tensors.\n",
        "# Let's load the TFLite model we saved to \"./saved_tflite_models/model_2.tflite\" above.\n",
        "model_complexity=0\n",
        "interpreter = tf.lite.Interpreter(model_path=\"model_fire.tflite\")\n",
        "interpreter.allocate_tensors()\n",
        "\n",
        "# Get input and output tensors.\n",
        "input_details = interpreter.get_input_details()\n",
        "output_details = interpreter.get_output_details()\n"
      ],
      "metadata": {
        "colab": {
          "base_uri": "https://localhost:8080/",
          "height": 254
        },
        "id": "JRTudpvYeDQv",
        "outputId": "20c82d02-fef3-4584-f0f7-d2ac184a7c34"
      },
      "execution_count": null,
      "outputs": [
        {
          "output_type": "error",
          "ename": "NameError",
          "evalue": "ignored",
          "traceback": [
            "\u001b[0;31m---------------------------------------------------------------------------\u001b[0m",
            "\u001b[0;31mNameError\u001b[0m                                 Traceback (most recent call last)",
            "\u001b[0;32m<ipython-input-1-da323b53400e>\u001b[0m in \u001b[0;36m<cell line: 4>\u001b[0;34m()\u001b[0m\n\u001b[1;32m      2\u001b[0m \u001b[0;31m# Let's load the TFLite model we saved to \"./saved_tflite_models/model_2.tflite\" above.\u001b[0m\u001b[0;34m\u001b[0m\u001b[0;34m\u001b[0m\u001b[0m\n\u001b[1;32m      3\u001b[0m \u001b[0mmodel_complexity\u001b[0m\u001b[0;34m=\u001b[0m\u001b[0;36m0\u001b[0m\u001b[0;34m\u001b[0m\u001b[0;34m\u001b[0m\u001b[0m\n\u001b[0;32m----> 4\u001b[0;31m \u001b[0minterpreter\u001b[0m \u001b[0;34m=\u001b[0m \u001b[0mtf\u001b[0m\u001b[0;34m.\u001b[0m\u001b[0mlite\u001b[0m\u001b[0;34m.\u001b[0m\u001b[0mInterpreter\u001b[0m\u001b[0;34m(\u001b[0m\u001b[0mmodel_path\u001b[0m\u001b[0;34m=\u001b[0m\u001b[0;34m\"model_fire.tflite\"\u001b[0m\u001b[0;34m)\u001b[0m\u001b[0;34m\u001b[0m\u001b[0;34m\u001b[0m\u001b[0m\n\u001b[0m\u001b[1;32m      5\u001b[0m \u001b[0minterpreter\u001b[0m\u001b[0;34m.\u001b[0m\u001b[0mallocate_tensors\u001b[0m\u001b[0;34m(\u001b[0m\u001b[0;34m)\u001b[0m\u001b[0;34m\u001b[0m\u001b[0;34m\u001b[0m\u001b[0m\n\u001b[1;32m      6\u001b[0m \u001b[0;34m\u001b[0m\u001b[0m\n",
            "\u001b[0;31mNameError\u001b[0m: name 'tf' is not defined"
          ]
        }
      ]
    },
    {
      "cell_type": "code",
      "source": [
        "import tensorflow as tf\n",
        "test = tf.keras.preprocessing.image_dataset_from_directory(\n",
        "  \"the-wildfire-dataset/the_wildfire_dataset/the_wildfire_dataset/test\",\n",
        "  seed=123,\n",
        "  image_size=(img_height, img_width),\n",
        "  batch_size=batch_size,\n",
        "  label_mode='categorical')\n",
        "# Sélectionner les indices des exemples pour chaque classe\n",
        "indices_class_0 = tf.where(predictions_model1[:, 0] > seuil)[:, 0]\n",
        "indices_class_1 = tf.where(predictions_model1[:, 1] > seuil)[:, 0]\n",
        "\n",
        "# Créer des datasets pour chaque classe\n",
        "dataset_class_0 = tf.gather(dataset, indices_class_0)\n",
        "dataset_class_1 = tf.gather(dataset, indices_class_1)\n"
      ],
      "metadata": {
        "id": "6mtryaHUSnWo"
      },
      "execution_count": null,
      "outputs": []
    },
    {
      "cell_type": "code",
      "source": [],
      "metadata": {
        "id": "saD5wCTkSnUG"
      },
      "execution_count": null,
      "outputs": []
    },
    {
      "cell_type": "code",
      "source": [],
      "metadata": {
        "id": "N4BjEdrPSnR2"
      },
      "execution_count": null,
      "outputs": []
    },
    {
      "cell_type": "code",
      "source": [],
      "metadata": {
        "id": "b3T7HF26SnPG"
      },
      "execution_count": null,
      "outputs": []
    },
    {
      "cell_type": "code",
      "source": [],
      "metadata": {
        "id": "hhQ6IuJCSnMe"
      },
      "execution_count": null,
      "outputs": []
    },
    {
      "cell_type": "code",
      "source": [],
      "metadata": {
        "id": "c-LIyj42SnJ2"
      },
      "execution_count": null,
      "outputs": []
    },
    {
      "cell_type": "code",
      "source": [],
      "metadata": {
        "id": "oE3PhdtQSnHK"
      },
      "execution_count": null,
      "outputs": []
    }
  ]
}