{
  "cells": [
    {
      "cell_type": "markdown",
      "metadata": {},
      "source": [
        "# This notebook is dedicated to the creation of the first model (classification fire/nofire). \n",
        "\n",
        "Since this is pretty much the same as the other models i won't explain it here, youcan look how i did for the 5classModel"
      ]
    },
    {
      "cell_type": "code",
      "execution_count": null,
      "metadata": {
        "colab": {
          "base_uri": "https://localhost:8080/"
        },
        "id": "lHOv4hMp4h68",
        "outputId": "c5c0ab63-55f9-4575-8b8d-a9054e21ac97"
      },
      "outputs": [
        {
          "name": "stdout",
          "output_type": "stream",
          "text": [
            "Collecting opendatasets\n",
            "  Downloading opendatasets-0.1.22-py3-none-any.whl (15 kB)\n",
            "Requirement already satisfied: tqdm in /usr/local/lib/python3.10/dist-packages (from opendatasets) (4.66.1)\n",
            "Requirement already satisfied: kaggle in /usr/local/lib/python3.10/dist-packages (from opendatasets) (1.5.16)\n",
            "Requirement already satisfied: click in /usr/local/lib/python3.10/dist-packages (from opendatasets) (8.1.7)\n",
            "Requirement already satisfied: six>=1.10 in /usr/local/lib/python3.10/dist-packages (from kaggle->opendatasets) (1.16.0)\n",
            "Requirement already satisfied: certifi in /usr/local/lib/python3.10/dist-packages (from kaggle->opendatasets) (2023.11.17)\n",
            "Requirement already satisfied: python-dateutil in /usr/local/lib/python3.10/dist-packages (from kaggle->opendatasets) (2.8.2)\n",
            "Requirement already satisfied: requests in /usr/local/lib/python3.10/dist-packages (from kaggle->opendatasets) (2.31.0)\n",
            "Requirement already satisfied: python-slugify in /usr/local/lib/python3.10/dist-packages (from kaggle->opendatasets) (8.0.1)\n",
            "Requirement already satisfied: urllib3 in /usr/local/lib/python3.10/dist-packages (from kaggle->opendatasets) (2.0.7)\n",
            "Requirement already satisfied: bleach in /usr/local/lib/python3.10/dist-packages (from kaggle->opendatasets) (6.1.0)\n",
            "Requirement already satisfied: webencodings in /usr/local/lib/python3.10/dist-packages (from bleach->kaggle->opendatasets) (0.5.1)\n",
            "Requirement already satisfied: text-unidecode>=1.3 in /usr/local/lib/python3.10/dist-packages (from python-slugify->kaggle->opendatasets) (1.3)\n",
            "Requirement already satisfied: charset-normalizer<4,>=2 in /usr/local/lib/python3.10/dist-packages (from requests->kaggle->opendatasets) (3.3.2)\n",
            "Requirement already satisfied: idna<4,>=2.5 in /usr/local/lib/python3.10/dist-packages (from requests->kaggle->opendatasets) (3.6)\n",
            "Installing collected packages: opendatasets\n",
            "Successfully installed opendatasets-0.1.22\n"
          ]
        }
      ],
      "source": [
        "!pip install opendatasets"
      ]
    },
    {
      "cell_type": "code",
      "execution_count": null,
      "metadata": {
        "colab": {
          "base_uri": "https://localhost:8080/"
        },
        "id": "-MevG0Zs4VtI",
        "outputId": "98059921-95e5-4726-bb29-439a842c8056"
      },
      "outputs": [
        {
          "name": "stdout",
          "output_type": "stream",
          "text": [
            "Downloading the-wildfire-dataset.zip to ./the-wildfire-dataset\n"
          ]
        },
        {
          "name": "stderr",
          "output_type": "stream",
          "text": [
            "100%|██████████| 9.94G/9.94G [01:53<00:00, 93.6MB/s]\n"
          ]
        },
        {
          "name": "stdout",
          "output_type": "stream",
          "text": [
            "\n"
          ]
        }
      ],
      "source": [
        "import opendatasets as od\n",
        "import pandas as pd\n",
        "\n",
        "od.download('https://www.kaggle.com/datasets/elmadafri/the-wildfire-dataset/data')"
      ]
    },
    {
      "cell_type": "code",
      "execution_count": null,
      "metadata": {
        "id": "Tb_2m3IU4Vkz"
      },
      "outputs": [],
      "source": [
        "import os\n",
        "import numpy as np\n",
        "import time\n",
        "import pandas as pd\n",
        "\n",
        "import PIL.Image as Image\n",
        "import matplotlib.pylab as plt\n",
        "\n",
        "import tensorflow as tf\n",
        "import tensorflow_hub as hub # pip install tensorflow_hub"
      ]
    },
    {
      "cell_type": "code",
      "execution_count": null,
      "metadata": {
        "id": "LO9Hc9Wg4mSQ"
      },
      "outputs": [],
      "source": [
        "import os\n",
        "\n",
        "fichier_a_supprimer =\"/content/the-wildfire-dataset/the_wildfire_dataset/the_wildfire_dataset/val/fire/Both_smoke_and_fire/desktop.ini\"\n",
        "try:\n",
        "    os.remove(fichier_a_supprimer)\n",
        "except OSError as e:\n",
        "    print(f'Error')"
      ]
    },
    {
      "cell_type": "code",
      "execution_count": null,
      "metadata": {
        "id": "WE7CtCrB4Vg8"
      },
      "outputs": [],
      "source": [
        "train_dir='the-wildfire-dataset/the_wildfire_dataset/the_wildfire_dataset/train'\n",
        "validation_dir= 'the-wildfire-dataset/the_wildfire_dataset/the_wildfire_dataset/val'\n",
        "test_dir='the-wildfire-dataset/the_wildfire_dataset/the_wildfire_dataset/test'\n",
        "\n",
        "IMG_SIZE = (224, 224)\n",
        "BATCH_SIZE = 5\n",
        "\n",
        "labels= ['Smoke_from_fires', 'Both_smoke_and_fire', 'Clean_Forest', 'Fire_confounding_elements', 'Smoke_confounding_elements']\n"
      ]
    },
    {
      "cell_type": "code",
      "execution_count": null,
      "metadata": {
        "id": "_wAswo3R4VRo"
      },
      "outputs": [],
      "source": [
        "feature_extractor_layer = hub.KerasLayer(\n",
        "    \"https://www.kaggle.com/models/tensorflow/efficientnet/frameworks/TensorFlow2/variations/b0-classification/versions/1\", input_shape=(224, 224, 3), trainable=False)"
      ]
    },
    {
      "cell_type": "code",
      "execution_count": null,
      "metadata": {
        "colab": {
          "base_uri": "https://localhost:8080/"
        },
        "id": "DB-PtKHM4O1U",
        "outputId": "cf291b3c-6a77-4d55-9280-4bf283fbfddd"
      },
      "outputs": [
        {
          "name": "stdout",
          "output_type": "stream",
          "text": [
            "Found 1887 files belonging to 2 classes.\n",
            "Found 402 files belonging to 2 classes.\n",
            "Found 410 files belonging to 2 classes.\n",
            "Model: \"sequential\"\n",
            "_________________________________________________________________\n",
            " Layer (type)                Output Shape              Param #   \n",
            "=================================================================\n",
            " keras_layer (KerasLayer)    (None, 1000)              5330564   \n",
            "                                                                 \n",
            " dense (Dense)               (None, 2)                 2002      \n",
            "                                                                 \n",
            "=================================================================\n",
            "Total params: 5332566 (20.34 MB)\n",
            "Trainable params: 2002 (7.82 KB)\n",
            "Non-trainable params: 5330564 (20.33 MB)\n",
            "_________________________________________________________________\n",
            "Epoch 1/4\n",
            "189/189 [==============================] - 583s 3s/step - loss: 0.6566 - acc: 0.7589 - val_loss: 0.6295 - val_acc: 0.7114\n",
            "Epoch 2/4\n",
            "189/189 [==============================] - 551s 3s/step - loss: 0.6133 - acc: 0.7419 - val_loss: 0.5945 - val_acc: 0.7587\n",
            "Epoch 3/4\n",
            "189/189 [==============================] - 599s 3s/step - loss: 0.5839 - acc: 0.7642 - val_loss: 0.5682 - val_acc: 0.7736\n",
            "Epoch 4/4\n",
            "189/189 [==============================] - 599s 3s/step - loss: 0.5610 - acc: 0.7742 - val_loss: 0.5472 - val_acc: 0.7836\n",
            "Epoch 1/10\n",
            "189/189 [==============================] - 867s 4s/step - loss: 0.6984 - acc: 0.7605 - val_loss: 0.6927 - val_acc: 0.7537\n",
            "Epoch 2/10\n",
            "189/189 [==============================] - 866s 4s/step - loss: 0.6292 - acc: 0.8103 - val_loss: 0.6462 - val_acc: 0.7960\n",
            "Epoch 3/10\n",
            "189/189 [==============================] - 861s 4s/step - loss: 0.5594 - acc: 0.8490 - val_loss: 0.4923 - val_acc: 0.8905\n",
            "Epoch 4/10\n",
            "189/189 [==============================] - 814s 4s/step - loss: 0.5285 - acc: 0.8569 - val_loss: 0.5812 - val_acc: 0.8184\n",
            "Epoch 5/10\n",
            "189/189 [==============================] - 854s 4s/step - loss: 0.4940 - acc: 0.8723 - val_loss: 0.5216 - val_acc: 0.8582\n",
            "Epoch 6/10\n",
            "189/189 [==============================] - 862s 4s/step - loss: 0.4846 - acc: 0.8665 - val_loss: 0.7345 - val_acc: 0.6517\n",
            "Epoch 7/10\n",
            "189/189 [==============================] - 862s 4s/step - loss: 0.4823 - acc: 0.8622 - val_loss: 0.6715 - val_acc: 0.7388\n",
            "Epoch 8/10\n",
            "189/189 [==============================] - 897s 5s/step - loss: 0.4155 - acc: 0.8983 - val_loss: 0.4159 - val_acc: 0.8856\n",
            "Epoch 9/10\n",
            "189/189 [==============================] - 860s 4s/step - loss: 0.3777 - acc: 0.9157 - val_loss: 0.5788 - val_acc: 0.8259\n",
            "Epoch 10/10\n",
            "189/189 [==============================] - 809s 4s/step - loss: 0.3744 - acc: 0.9152 - val_loss: 0.3706 - val_acc: 0.9154\n",
            "41/41 [==============================] - 109s 2s/step - loss: 0.3642 - acc: 0.9244\n"
          ]
        },
        {
          "data": {
            "text/plain": [
              "[0.36416077613830566, 0.9243902564048767]"
            ]
          },
          "execution_count": 7,
          "metadata": {},
          "output_type": "execute_result"
        }
      ],
      "source": [
        "import keras\n",
        "img_height=224\n",
        "img_width=224\n",
        "batch_size=10\n",
        "\n",
        "train = tf.keras.preprocessing.image_dataset_from_directory(\n",
        "  \"the-wildfire-dataset/the_wildfire_dataset/the_wildfire_dataset/train\",\n",
        "  image_size=(img_height, img_width),\n",
        "  batch_size=batch_size,\n",
        "  label_mode='categorical')\n",
        "\n",
        "validation = tf.keras.preprocessing.image_dataset_from_directory(\n",
        "  \"the-wildfire-dataset/the_wildfire_dataset/the_wildfire_dataset/val\",\n",
        "  image_size=(img_height, img_width),\n",
        "  batch_size=batch_size,\n",
        "  label_mode='categorical')\n",
        "\n",
        "test = tf.keras.preprocessing.image_dataset_from_directory(\n",
        "  \"the-wildfire-dataset/the_wildfire_dataset/the_wildfire_dataset/test\",\n",
        "  seed=123,\n",
        "  image_size=(img_height, img_width),\n",
        "  batch_size=batch_size,\n",
        "  label_mode='categorical')\n",
        "\n",
        "normalization_layer = tf.keras.layers.experimental.preprocessing.Rescaling(1./255)\n",
        "train = train.map(lambda x, y: (normalization_layer(x), y))\n",
        "validation=validation.map(lambda x, y: (normalization_layer(x), y))\n",
        "test=test.map(lambda x, y: (normalization_layer(x), y))\n",
        "\n",
        "model_fire = tf.keras.Sequential([\n",
        "  feature_extractor_layer,\n",
        "  tf.keras.layers.Dense(2)\n",
        "])\n",
        "model_fire.summary()\n",
        "model_fire.compile(\n",
        "  optimizer=tf.keras.optimizers.legacy.Adam(),\n",
        "  loss=tf.keras.losses.CategoricalCrossentropy(from_logits=True),\n",
        "  metrics=['acc'])\n",
        "tensorboard_logdir = os.path.join(os.getcwd(),'logs','tensorboard') # Let's log Tensorboard data to this folder\n",
        "tensorboard_callback = keras.callbacks.TensorBoard(log_dir=tensorboard_logdir) # Create a Tensorboard \"callback\"\n",
        "model_fire.fit(train, epochs=4,validation_data=validation,\n",
        "                    callbacks=[tensorboard_callback])\n",
        "\n",
        "\n",
        "feature_extractor_layer.trainable = True\n",
        "model_fire.compile(optimizer=keras.optimizers.legacy.Adam(1e-3),  # Very low learning rate\n",
        "              loss=keras.losses.CategoricalCrossentropy(from_logits=True),\n",
        "              metrics=['acc'])\n",
        "model_fire.fit(train, epochs=10,validation_data=validation,\n",
        "                    callbacks=[tensorboard_callback])\n",
        "model_fire.evaluate(test)"
      ]
    },
    {
      "cell_type": "code",
      "execution_count": null,
      "metadata": {
        "colab": {
          "base_uri": "https://localhost:8080/"
        },
        "id": "q9bMmXbVJCeo",
        "outputId": "6fa11cf9-d94b-4171-9e96-8911083aa289"
      },
      "outputs": [
        {
          "name": "stdout",
          "output_type": "stream",
          "text": [
            "1\n"
          ]
        }
      ],
      "source": [
        "import flatbuffers\n",
        "# Convert the model (note: we are converting the model directly from the \"model\" variable)\n",
        "converter = tf.lite.TFLiteConverter.from_keras_model(model_fire)\n",
        "\n",
        "tflite_model = converter.convert()\n",
        "print(1)\n",
        "# Let's save the model as \"model_2.tflite\"\n",
        "tflite_model2_path = os.path.join(os.getcwd(),'model_fire.tflite')\n",
        "with open(tflite_model2_path, 'wb') as f:\n",
        "  f.write(tflite_model)"
      ]
    },
    {
      "cell_type": "code",
      "execution_count": null,
      "metadata": {
        "colab": {
          "base_uri": "https://localhost:8080/"
        },
        "id": "Ouib6BF_JRhI",
        "outputId": "46c62f92-37d8-4523-e2bc-e4c389547a12"
      },
      "outputs": [
        {
          "name": "stdout",
          "output_type": "stream",
          "text": [
            "Found 410 files belonging to 2 classes.\n"
          ]
        }
      ],
      "source": [
        "test_ = tf.keras.preprocessing.image_dataset_from_directory(\n",
        "  test_dir,\n",
        "  image_size=(img_height, img_width),\n",
        "  batch_size=1,label_mode='categorical',shuffle=False)\n",
        "test_=test_.map(lambda x, y: (normalization_layer(x), y))"
      ]
    },
    {
      "cell_type": "code",
      "execution_count": null,
      "metadata": {
        "colab": {
          "base_uri": "https://localhost:8080/"
        },
        "id": "VN6rRQpuJRfD",
        "outputId": "f0d4b4df-ffde-49b4-a335-7ac1df324d2b"
      },
      "outputs": [
        {
          "name": "stdout",
          "output_type": "stream",
          "text": [
            "410/410 [==============================] - 120s 290ms/step\n"
          ]
        }
      ],
      "source": [
        "pred=model_fire.predict(test_)\n",
        "predictions=np.argmax(pred,axis=-1)"
      ]
    },
    {
      "cell_type": "code",
      "execution_count": null,
      "metadata": {
        "colab": {
          "base_uri": "https://localhost:8080/"
        },
        "id": "6ZUK5aJIMfIS",
        "outputId": "f5268d6a-7eba-45d7-96ff-9a8036551a2c"
      },
      "outputs": [
        {
          "data": {
            "text/plain": [
              "array([0, 0, 0, 0, 0, 0, 0, 0, 0, 0, 0, 0, 0, 0, 0, 1, 0, 0, 0, 1, 0, 0,\n",
              "       0, 0, 0, 0, 0, 0, 0, 0, 0, 0, 0, 0, 1, 0, 0, 0, 0, 0, 0, 0, 0, 0,\n",
              "       0, 0, 0, 0, 0, 0, 0, 0, 0, 0, 0, 0, 0, 0, 1, 0, 0, 0, 0, 0, 0, 0,\n",
              "       1, 0, 1, 0, 0, 0, 0, 0, 0, 1, 0, 0, 0, 0, 0, 1, 0, 0, 0, 0, 0, 0,\n",
              "       0, 0, 0, 0, 0, 1, 1, 0, 0, 0, 0, 0, 0, 0, 0, 1, 0, 0, 0, 1, 0, 1,\n",
              "       0, 0, 0, 0, 0, 0, 0, 0, 0, 0, 0, 0, 0, 0, 1, 0, 0, 0, 0, 0, 0, 1,\n",
              "       0, 0, 0, 1, 0, 0, 0, 0, 1, 0, 0, 0, 0, 0, 0, 0, 0, 0, 1, 0, 0, 0,\n",
              "       0, 0, 0, 0, 0, 1, 1, 0, 1, 1, 1, 1, 1, 1, 1, 0, 1, 1, 0, 1, 1, 1,\n",
              "       1, 1, 1, 1, 1, 0, 0, 1, 1, 1, 1, 1, 1, 1, 1, 1, 1, 1, 1, 0, 0, 1,\n",
              "       1, 1, 1, 1, 1, 0, 1, 1, 1, 1, 1, 1, 1, 1, 1, 1, 1, 1, 1, 1, 1, 1,\n",
              "       1, 0, 1, 1, 1, 1, 1, 1, 1, 1, 1, 1, 1, 1, 1, 1, 1, 1, 1, 1, 1, 1,\n",
              "       1, 1, 1, 1, 1, 1, 1, 1, 1, 1, 1, 1, 1, 1, 1, 1, 1, 1, 1, 1, 1, 1,\n",
              "       1, 1, 0, 1, 1, 1, 1, 1, 1, 1, 1, 1, 1, 1, 1, 1, 1, 1, 1, 1, 1, 1,\n",
              "       1, 1, 1, 1, 1, 1, 1, 1, 1, 1, 1, 1, 1, 1, 1, 1, 1, 1, 1, 1, 1, 1,\n",
              "       1, 1, 1, 1, 1, 1, 1, 1, 1, 1, 1, 1, 1, 1, 1, 1, 1, 1, 1, 1, 0, 1,\n",
              "       1, 1, 1, 1, 1, 1, 1, 1, 1, 1, 1, 1, 0, 1, 1, 1, 1, 1, 1, 1, 1, 1,\n",
              "       1, 1, 1, 1, 1, 1, 1, 1, 1, 1, 1, 1, 1, 1, 1, 1, 1, 1, 1, 1, 1, 0,\n",
              "       1, 1, 1, 1, 1, 1, 1, 1, 1, 1, 1, 1, 1, 1, 1, 1, 1, 1, 1, 1, 1, 1,\n",
              "       1, 1, 1, 1, 1, 1, 1, 1, 1, 1, 1, 1, 1, 1])"
            ]
          },
          "execution_count": 23,
          "metadata": {},
          "output_type": "execute_result"
        }
      ],
      "source": [
        "predictions"
      ]
    },
    {
      "cell_type": "code",
      "execution_count": null,
      "metadata": {
        "colab": {
          "base_uri": "https://localhost:8080/"
        },
        "id": "pz0W-kqHJRcc",
        "outputId": "4b13bbb4-055e-4df2-eeb0-12eb5af2c45f"
      },
      "outputs": [
        {
          "data": {
            "text/plain": [
              "array([0, 0, 0, 0, 0, 0, 0, 0, 0, 0, 0, 0, 0, 0, 0, 0, 0, 0, 0, 0, 0, 0,\n",
              "       0, 0, 0, 0, 0, 0, 0, 0, 0, 0, 0, 0, 0, 0, 0, 0, 0, 0, 0, 0, 0, 0,\n",
              "       0, 0, 0, 0, 0, 0, 0, 0, 0, 0, 0, 0, 0, 0, 0, 0, 0, 0, 0, 0, 0, 0,\n",
              "       0, 0, 0, 0, 0, 0, 0, 0, 0, 0, 0, 0, 0, 0, 0, 0, 0, 0, 0, 0, 0, 0,\n",
              "       0, 0, 0, 0, 0, 0, 0, 0, 0, 0, 0, 0, 0, 0, 0, 0, 0, 0, 0, 0, 0, 0,\n",
              "       0, 0, 0, 0, 0, 0, 0, 0, 0, 0, 0, 0, 0, 0, 0, 0, 0, 0, 0, 0, 0, 0,\n",
              "       0, 0, 0, 0, 0, 0, 0, 0, 0, 0, 0, 0, 0, 0, 0, 0, 0, 0, 0, 0, 0, 0,\n",
              "       0, 0, 0, 0, 0, 1, 1, 1, 1, 1, 1, 1, 1, 1, 1, 1, 1, 1, 1, 1, 1, 1,\n",
              "       1, 1, 1, 1, 1, 1, 1, 1, 1, 1, 1, 1, 1, 1, 1, 1, 1, 1, 1, 1, 1, 1,\n",
              "       1, 1, 1, 1, 1, 1, 1, 1, 1, 1, 1, 1, 1, 1, 1, 1, 1, 1, 1, 1, 1, 1,\n",
              "       1, 1, 1, 1, 1, 1, 1, 1, 1, 1, 1, 1, 1, 1, 1, 1, 1, 1, 1, 1, 1, 1,\n",
              "       1, 1, 1, 1, 1, 1, 1, 1, 1, 1, 1, 1, 1, 1, 1, 1, 1, 1, 1, 1, 1, 1,\n",
              "       1, 1, 1, 1, 1, 1, 1, 1, 1, 1, 1, 1, 1, 1, 1, 1, 1, 1, 1, 1, 1, 1,\n",
              "       1, 1, 1, 1, 1, 1, 1, 1, 1, 1, 1, 1, 1, 1, 1, 1, 1, 1, 1, 1, 1, 1,\n",
              "       1, 1, 1, 1, 1, 1, 1, 1, 1, 1, 1, 1, 1, 1, 1, 1, 1, 1, 1, 1, 1, 1,\n",
              "       1, 1, 1, 1, 1, 1, 1, 1, 1, 1, 1, 1, 1, 1, 1, 1, 1, 1, 1, 1, 1, 1,\n",
              "       1, 1, 1, 1, 1, 1, 1, 1, 1, 1, 1, 1, 1, 1, 1, 1, 1, 1, 1, 1, 1, 1,\n",
              "       1, 1, 1, 1, 1, 1, 1, 1, 1, 1, 1, 1, 1, 1, 1, 1, 1, 1, 1, 1, 1, 1,\n",
              "       1, 1, 1, 1, 1, 1, 1, 1, 1, 1, 1, 1, 1, 1])"
            ]
          },
          "execution_count": 27,
          "metadata": {},
          "output_type": "execute_result"
        }
      ],
      "source": [
        "true_class=[]\n",
        "for images,labels_ in test_:\n",
        "  for i in range(len(labels_)):\n",
        "    true_class+=[np.flatnonzero(labels_[i] == 1)[0]]\n",
        "true_class=np.array(true_class)\n",
        "true_class"
      ]
    },
    {
      "cell_type": "code",
      "execution_count": null,
      "metadata": {
        "colab": {
          "base_uri": "https://localhost:8080/"
        },
        "id": "dUDgIosdJRZw",
        "outputId": "3fd48c22-5a51-491a-9edb-e03e04ffa3c2"
      },
      "outputs": [
        {
          "name": "stdout",
          "output_type": "stream",
          "text": [
            "Matrice de confusion :\n",
            "[[141  18]\n",
            " [ 13 238]]\n",
            "Rapport de classification :\n",
            "              precision    recall  f1-score   support\n",
            "\n",
            "           0       0.92      0.89      0.90       159\n",
            "           1       0.93      0.95      0.94       251\n",
            "\n",
            "    accuracy                           0.92       410\n",
            "   macro avg       0.92      0.92      0.92       410\n",
            "weighted avg       0.92      0.92      0.92       410\n",
            "\n"
          ]
        }
      ],
      "source": [
        "import tensorflow as tf\n",
        "from sklearn.metrics import confusion_matrix, classification_report\n",
        "import numpy as np\n",
        "\n",
        "matrice_confusion = confusion_matrix(true_class, predictions)\n",
        "\n",
        "# Afficher la matrice de confusion\n",
        "print(\"Matrice de confusion :\")\n",
        "print(matrice_confusion)\n",
        "\n",
        "# Afficher le rapport de classification\n",
        "rapport_classification = classification_report(true_class, predictions)\n",
        "print(\"Rapport de classification :\")\n",
        "print(rapport_classification)"
      ]
    },
    {
      "cell_type": "code",
      "execution_count": null,
      "metadata": {
        "colab": {
          "base_uri": "https://localhost:8080/",
          "height": 449
        },
        "id": "DssZTLVsSM6g",
        "outputId": "c2cc0c9e-5ebb-4b16-b805-7e952ec49466"
      },
      "outputs": [
        {
          "data": {
            "image/png": "[encoded data removed]",
            "text/plain": [
              "<Figure size 640x480 with 2 Axes>"
            ]
          },
          "metadata": {},
          "output_type": "display_data"
        }
      ],
      "source": [
        "from sklearn.metrics import ConfusionMatrixDisplay\n",
        "\n",
        "disp=ConfusionMatrixDisplay(matrice_confusion,display_labels=[\"fire\",\"nofire\"])\n",
        "disp.plot()\n",
        "plt.show()"
      ]
    },
    {
      "cell_type": "code",
      "execution_count": null,
      "metadata": {
        "id": "nho6FTSsSnYx"
      },
      "outputs": [],
      "source": []
    },
    {
      "cell_type": "code",
      "execution_count": null,
      "metadata": {
        "id": "6mtryaHUSnWo"
      },
      "outputs": [],
      "source": []
    },
    {
      "cell_type": "code",
      "execution_count": null,
      "metadata": {
        "id": "saD5wCTkSnUG"
      },
      "outputs": [],
      "source": []
    },
    {
      "cell_type": "code",
      "execution_count": null,
      "metadata": {
        "id": "N4BjEdrPSnR2"
      },
      "outputs": [],
      "source": []
    },
    {
      "cell_type": "code",
      "execution_count": null,
      "metadata": {
        "id": "b3T7HF26SnPG"
      },
      "outputs": [],
      "source": []
    },
    {
      "cell_type": "code",
      "execution_count": null,
      "metadata": {
        "id": "hhQ6IuJCSnMe"
      },
      "outputs": [],
      "source": []
    },
    {
      "cell_type": "code",
      "execution_count": null,
      "metadata": {
        "id": "c-LIyj42SnJ2"
      },
      "outputs": [],
      "source": []
    },
    {
      "cell_type": "code",
      "execution_count": null,
      "metadata": {
        "id": "oE3PhdtQSnHK"
      },
      "outputs": [],
      "source": []
    }
  ],
  "metadata": {
    "accelerator": "GPU",
    "colab": {
      "gpuType": "T4",
      "provenance": []
    },
    "kernelspec": {
      "display_name": "Python 3",
      "name": "python3"
    },
    "language_info": {
      "name": "python"
    }
  },
  "nbformat": 4,
  "nbformat_minor": 0
}
